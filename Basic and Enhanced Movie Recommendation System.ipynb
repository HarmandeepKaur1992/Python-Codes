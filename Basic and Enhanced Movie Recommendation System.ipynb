{
 "cells": [
  {
   "cell_type": "code",
   "execution_count": 1,
   "id": "15dbd68a",
   "metadata": {},
   "outputs": [],
   "source": [
    "import pandas as pd"
   ]
  },
  {
   "cell_type": "code",
   "execution_count": 2,
   "id": "02c1d7e4",
   "metadata": {},
   "outputs": [
    {
     "name": "stdout",
     "output_type": "stream",
     "text": [
      "   movieId  tagId  relevance\n",
      "0        1      1    0.02500\n",
      "1        1      2    0.02500\n",
      "2        1      3    0.05775\n",
      "3        1      4    0.09675\n",
      "4        1      5    0.14675\n"
     ]
    }
   ],
   "source": [
    "scores=pd.read_csv(\"Movie Dataset\\genome_scores.csv\")\n",
    "print(scores.head()) #Displaying the first five rows of dataset"
   ]
  },
  {
   "cell_type": "code",
   "execution_count": 4,
   "id": "b45681ec",
   "metadata": {},
   "outputs": [
    {
     "name": "stdout",
     "output_type": "stream",
     "text": [
      "tagId       1        2        3        4        5        6        7     \\\n",
      "movieId                                                                  \n",
      "1        0.02500  0.02500  0.05775  0.09675  0.14675  0.21700  0.06700   \n",
      "2        0.03975  0.04375  0.03775  0.04800  0.11025  0.07250  0.04775   \n",
      "3        0.04350  0.05475  0.02800  0.07700  0.05400  0.06850  0.05600   \n",
      "4        0.03725  0.03950  0.03675  0.03100  0.06825  0.04050  0.02325   \n",
      "5        0.04200  0.05275  0.05925  0.03675  0.07525  0.12525  0.02850   \n",
      "\n",
      "tagId       8        9        10    ...     1119     1120     1121     1122  \\\n",
      "movieId                             ...                                       \n",
      "1        0.26275  0.26200  0.03200  ...  0.03950  0.01800  0.04575  0.03275   \n",
      "2        0.10975  0.09925  0.02050  ...  0.04175  0.01925  0.01725  0.02425   \n",
      "3        0.18500  0.04925  0.02675  ...  0.04150  0.02675  0.02775  0.03425   \n",
      "4        0.08700  0.05125  0.03025  ...  0.05750  0.03375  0.02275  0.03975   \n",
      "5        0.08500  0.02950  0.02875  ...  0.04250  0.02825  0.02150  0.02600   \n",
      "\n",
      "tagId       1123     1124     1125     1126     1127     1128  \n",
      "movieId                                                        \n",
      "1        0.12500  0.04150  0.01925  0.03625  0.07775  0.02300  \n",
      "2        0.12550  0.02250  0.01550  0.01475  0.09025  0.01875  \n",
      "3        0.15550  0.03675  0.01700  0.01950  0.09700  0.01850  \n",
      "4        0.18525  0.05925  0.01500  0.01525  0.06450  0.01300  \n",
      "5        0.14275  0.02075  0.01650  0.01675  0.10750  0.01825  \n",
      "\n",
      "[5 rows x 1128 columns]\n"
     ]
    }
   ],
   "source": [
    "# Pivot the data to create a matrix of movies and tag relevance scores\n",
    "movie_matrix=scores.pivot(index='movieId', columns='tagId', values='relevance').fillna(0)\n",
    "print(movie_matrix.head())"
   ]
  },
  {
   "cell_type": "code",
   "execution_count": 5,
   "id": "42c02873",
   "metadata": {},
   "outputs": [],
   "source": [
    "from sklearn.metrics.pairwise import cosine_similarity"
   ]
  },
  {
   "cell_type": "code",
   "execution_count": 7,
   "id": "7b033b6a",
   "metadata": {},
   "outputs": [
    {
     "name": "stdout",
     "output_type": "stream",
     "text": [
      "movieId    1         2         3         4         5         6         7       \\\n",
      "movieId                                                                         \n",
      "1        1.000000  0.774364  0.705422  0.653030  0.671112  0.622978  0.650743   \n",
      "2        0.774364  1.000000  0.686518  0.638639  0.678916  0.523357  0.636758   \n",
      "3        0.705422  0.686518  1.000000  0.760621  0.860610  0.642212  0.777443   \n",
      "4        0.653030  0.638639  0.760621  1.000000  0.747912  0.611308  0.821005   \n",
      "5        0.671112  0.678916  0.860610  0.747912  1.000000  0.525462  0.781853   \n",
      "\n",
      "movieId    8         9         10      ...    130075    130087    130490  \\\n",
      "movieId                                ...                                 \n",
      "1        0.718667  0.539642  0.635327  ...  0.710686  0.693532  0.526778   \n",
      "2        0.775352  0.641454  0.656738  ...  0.671734  0.718141  0.610185   \n",
      "3        0.724368  0.619985  0.674691  ...  0.713553  0.744715  0.648940   \n",
      "4        0.747704  0.581943  0.600304  ...  0.697921  0.700457  0.666068   \n",
      "5        0.673073  0.578737  0.596865  ...  0.714765  0.699146  0.587365   \n",
      "\n",
      "movieId    130496    130520    130578    130840    131013    131168    131170  \n",
      "movieId                                                                        \n",
      "1        0.633009  0.805034  0.524985  0.575762  0.560758  0.574614  0.619928  \n",
      "2        0.684955  0.685895  0.588807  0.555149  0.547105  0.495936  0.623952  \n",
      "3        0.680754  0.657515  0.621110  0.660067  0.703164  0.617659  0.672926  \n",
      "4        0.645096  0.647851  0.599373  0.684915  0.620727  0.623417  0.647646  \n",
      "5        0.618712  0.642571  0.539147  0.585533  0.626817  0.541063  0.609013  \n",
      "\n",
      "[5 rows x 10381 columns]\n"
     ]
    }
   ],
   "source": [
    "#calculating cosine similarity between movies\n",
    "similar_matrix=cosine_similarity(movie_matrix)\n",
    "\n",
    "#conversting similarity matrix into dataframe\n",
    "df=pd.DataFrame(similar_matrix, index=movie_matrix.index, columns=movie_matrix.index)\n",
    "print(df.head())"
   ]
  },
  {
   "cell_type": "code",
   "execution_count": 8,
   "id": "fea4055d",
   "metadata": {},
   "outputs": [
    {
     "name": "stdout",
     "output_type": "stream",
     "text": [
      "Recommended Movies for Movie ID 1: Index([4886, 3114, 2355, 6377, 78499], dtype='int64', name='movieId')\n"
     ]
    }
   ],
   "source": [
    "#sorting movies based on similarity score\n",
    "def recommendation_sys(movie_id, num_recomm=5):\n",
    "    similar_movies=df[movie_id].sort_values(ascending=False).index[1:num_recomm+1]\n",
    "    return similar_movies\n",
    "\n",
    "movie_id=1\n",
    "recomm=recommendation_sys(movie_id,5)\n",
    "print(\"Recommended Movies for Movie ID {}: {}\".format(movie_id, recomm)) "
   ]
  },
  {
   "cell_type": "code",
   "execution_count": 18,
   "id": "e731a553",
   "metadata": {},
   "outputs": [
    {
     "name": "stdout",
     "output_type": "stream",
     "text": [
      "   movieId                               title  \\\n",
      "0        1                    Toy Story (1995)   \n",
      "1        2                      Jumanji (1995)   \n",
      "2        3             Grumpier Old Men (1995)   \n",
      "3        4            Waiting to Exhale (1995)   \n",
      "4        5  Father of the Bride Part II (1995)   \n",
      "\n",
      "                                        genres  \n",
      "0  Adventure|Animation|Children|Comedy|Fantasy  \n",
      "1                   Adventure|Children|Fantasy  \n",
      "2                               Comedy|Romance  \n",
      "3                         Comedy|Drama|Romance  \n",
      "4                                       Comedy  \n",
      "Recommended Movies for Movie ID 1 (Toy Story (1995)) are as follows\n",
      "['Monsters, Inc. (2001)', 'Toy Story 2 (1999)', \"Bug's Life, A (1998)\", 'Finding Nemo (2003)', 'Toy Story 3 (2010)']\n"
     ]
    }
   ],
   "source": [
    "#Enhancing the movie recommendation system to show movie titles in place of movie ids\n",
    "\n",
    "#reading the movie dataset containing movie titles\n",
    "movies_df=pd.read_csv(\"Movie Dataset\\movie.csv\")\n",
    "print(movies_df.head())\n",
    "\n",
    "id_to_title=pd.Series(movies_df.title.values, index=movies_df.movieId).to_dict()\n",
    "\n",
    "#defining a function to map movie_id to movie_title\n",
    "def movie_id_to_title(movie_id):\n",
    "    return id_to_title.get(movie_id, \"Movie ID not found in the dataset\")\n",
    "\n",
    "#sorting movies based on similarity score\n",
    "def recommendation_sys(movie_id, num_recomm=5):\n",
    "    similar_movies_ids=df[movie_id].sort_values(ascending=False).index[1:num_recomm+1]\n",
    "    \n",
    "    #converting movie_ids to movie_titles\n",
    "    similar_movie_titles=[movie_id_to_title(id) for id in similar_movies_ids]\n",
    "    return similar_movie_titles\n",
    "\n",
    "movie_id=1\n",
    "recomm=recommendation_sys(movie_id,5)\n",
    "print(\"Recommended Movies for Movie ID {} ({}) are as follows\".format(movie_id, movie_id_to_title(movie_id)))\n",
    "print(recomm)"
   ]
  },
  {
   "cell_type": "code",
   "execution_count": null,
   "id": "79592f33",
   "metadata": {},
   "outputs": [],
   "source": []
  }
 ],
 "metadata": {
  "kernelspec": {
   "display_name": "Python 3 (ipykernel)",
   "language": "python",
   "name": "python3"
  },
  "language_info": {
   "codemirror_mode": {
    "name": "ipython",
    "version": 3
   },
   "file_extension": ".py",
   "mimetype": "text/x-python",
   "name": "python",
   "nbconvert_exporter": "python",
   "pygments_lexer": "ipython3",
   "version": "3.11.5"
  }
 },
 "nbformat": 4,
 "nbformat_minor": 5
}
